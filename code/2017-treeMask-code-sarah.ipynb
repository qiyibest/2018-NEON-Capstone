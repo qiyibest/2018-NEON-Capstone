{
 "cells": [
  {
   "cell_type": "code",
   "execution_count": 1,
   "metadata": {},
   "outputs": [],
   "source": [
    "import numpy as np\n",
    "import os\n",
    "import gdal, osr\n",
    "import matplotlib.pyplot as plt\n",
    "import sys\n",
    "import matplotlib.pyplot as plt\n",
    "from scipy import ndimage as ndi\n",
    "%matplotlib inline "
   ]
  },
  {
   "cell_type": "code",
   "execution_count": null,
   "metadata": {},
   "outputs": [],
   "source": [
    "from skimage.morphology import watershed\n",
    "from skimage.feature import peak_local_max\n",
    "from skimage.measure import regionprops\n",
    "from sklearn.ensemble import RandomForestRegressor"
   ]
  },
  {
   "cell_type": "code",
   "execution_count": null,
   "metadata": {},
   "outputs": [],
   "source": [
    "def plot_band_array(band_array,image_extent,title,cmap_title,colormap,colormap_limits):\n",
    "    plt.imshow(band_array,extent=image_extent)\n",
    "    cbar = plt.colorbar(); plt.set_cmap(colormap); plt.clim(colormap_limits)\n",
    "    cbar.set_label(cmap_title,rotation=270,labelpad=20)\n",
    "    plt.title(title); ax = plt.gca()\n",
    "    ax.ticklabel_format(useOffset=False, style='plain') \n",
    "    rotatexlabels = plt.setp(ax.get_xticklabels(),rotation=90)"
   ]
  },
  {
   "cell_type": "code",
   "execution_count": null,
   "metadata": {},
   "outputs": [],
   "source": [
    "def array2raster(newRasterfn,rasterOrigin,pixelWidth,pixelHeight,array,epsg):\n",
    "\n",
    "    cols = array.shape[1]\n",
    "    rows = array.shape[0]\n",
    "    originX = rasterOrigin[0]\n",
    "    originY = rasterOrigin[1]\n",
    "\n",
    "    driver = gdal.GetDriverByName('GTiff')\n",
    "    outRaster = driver.Create(newRasterfn, cols, rows, 1, gdal.GDT_Float32)\n",
    "    outRaster.SetGeoTransform((originX, pixelWidth, 0, originY, 0, pixelHeight))\n",
    "    outband = outRaster.GetRasterBand(1)\n",
    "    outband.WriteArray(array)\n",
    "    outRasterSRS = osr.SpatialReference()\n",
    "    outRasterSRS.ImportFromEPSG(epsg)\n",
    "    outRaster.SetProjection(outRasterSRS.ExportToWkt())\n",
    "    outband.FlushCache()\n"
   ]
  },
  {
   "cell_type": "code",
   "execution_count": null,
   "metadata": {},
   "outputs": [],
   "source": [
    "chm_file = './data/2017/NEON_D17_SJER_DP3_258000_4108000_CHM.tif'"
   ]
  },
  {
   "cell_type": "code",
   "execution_count": null,
   "metadata": {},
   "outputs": [],
   "source": [
    "#Get info from chm file for outputting results\n",
    "just_chm_file = os.path.basename(chm_file)\n",
    "just_chm_file_split = just_chm_file.split(sep=\"_\")\n"
   ]
  },
  {
   "cell_type": "code",
   "execution_count": null,
   "metadata": {},
   "outputs": [],
   "source": [
    "def raster2array(geotif_file):\n",
    "    metadata = {}\n",
    "    dataset = gdal.Open(geotif_file)\n",
    "    metadata['array_rows'] = dataset.RasterYSize\n",
    "    metadata['array_cols'] = dataset.RasterXSize\n",
    "    metadata['bands'] = dataset.RasterCount\n",
    "    metadata['driver'] = dataset.GetDriver().LongName\n",
    "    metadata['projection'] = dataset.GetProjection()\n",
    "    metadata['geotransform'] = dataset.GetGeoTransform()\n",
    "\n",
    "    mapinfo = dataset.GetGeoTransform()\n",
    "    metadata['pixelWidth'] = mapinfo[1]\n",
    "    metadata['pixelHeight'] = mapinfo[5]\n",
    "\n",
    "    metadata['ext_dict'] = {}\n",
    "    metadata['ext_dict']['xMin'] = mapinfo[0]\n",
    "    metadata['ext_dict']['xMax'] = mapinfo[0] + dataset.RasterXSize/mapinfo[1]\n",
    "    metadata['ext_dict']['yMin'] = mapinfo[3] + dataset.RasterYSize/mapinfo[5]\n",
    "    metadata['ext_dict']['yMax'] = mapinfo[3]\n",
    "\n",
    "    metadata['extent'] = (metadata['ext_dict']['xMin'],metadata['ext_dict']['xMax'],\n",
    "                          metadata['ext_dict']['yMin'],metadata['ext_dict']['yMax'])\n",
    "\n",
    "    if metadata['bands'] == 1:\n",
    "        raster = dataset.GetRasterBand(1)\n",
    "        metadata['noDataValue'] = raster.GetNoDataValue()\n",
    "        metadata['scaleFactor'] = raster.GetScale()\n",
    "\n",
    "        # band statistics\n",
    "        metadata['bandstats'] = {} #make a nested dictionary to store band stats in same \n",
    "        stats = raster.GetStatistics(True,True)\n",
    "        metadata['bandstats']['min'] = round(stats[0],2)\n",
    "        metadata['bandstats']['max'] = round(stats[1],2)\n",
    "        metadata['bandstats']['mean'] = round(stats[2],2)\n",
    "        metadata['bandstats']['stdev'] = round(stats[3],2)\n",
    "\n",
    "        array = dataset.GetRasterBand(1).ReadAsArray(0,0,metadata['array_cols'],metadata['array_rows']).astype(np.float)\n",
    "        array[array==int(metadata['noDataValue'])]=np.nan\n",
    "        array = array/metadata['scaleFactor']\n",
    "        return array, metadata\n",
    "\n",
    "    elif metadata['bands'] > 1:\n",
    "        print('More than one band ... need to modify function for case of multiple bands')"
   ]
  },
  {
   "cell_type": "code",
   "execution_count": null,
   "metadata": {},
   "outputs": [],
   "source": [
    "just_chm_file\n"
   ]
  },
  {
   "cell_type": "code",
   "execution_count": null,
   "metadata": {},
   "outputs": [],
   "source": [
    "just_chm_file_split"
   ]
  },
  {
   "cell_type": "code",
   "execution_count": null,
   "metadata": {},
   "outputs": [],
   "source": [
    "#Open the CHM file with GDAL\n",
    "chm_dataset = gdal.Open(chm_file)\n",
    "\n",
    "#Get the raster band object\n",
    "chm_raster = chm_dataset.GetRasterBand(1)\n"
   ]
  },
  {
   "cell_type": "code",
   "execution_count": null,
   "metadata": {},
   "outputs": [],
   "source": [
    "#Get the NO DATA value\n",
    "noDataVal_chm = chm_raster.GetNoDataValue()"
   ]
  },
  {
   "cell_type": "code",
   "execution_count": null,
   "metadata": {},
   "outputs": [],
   "source": [
    "#Get required metadata from CHM file\n",
    "cols_chm = chm_dataset.RasterXSize\n",
    "rows_chm = chm_dataset.RasterYSize\n",
    "bands_chm = chm_dataset.RasterCount\n",
    "mapinfo_chm =chm_dataset.GetGeoTransform()\n",
    "xMin = mapinfo_chm[0]\n",
    "yMax = mapinfo_chm[3]\n",
    "xMax = xMin + chm_dataset.RasterXSize/mapinfo_chm[1]\n",
    "yMin = yMax + chm_dataset.RasterYSize/mapinfo_chm[5]\n",
    "image_extent = (xMin,xMax,yMin,yMax)"
   ]
  },
  {
   "cell_type": "code",
   "execution_count": null,
   "metadata": {},
   "outputs": [],
   "source": [
    "#Plot the original CHM\n",
    "plt.figure(1)\n",
    "chm_array = chm_raster.ReadAsArray(0,0,cols_chm,rows_chm).astype(np.float)\n",
    "\n",
    "#PLot the CHM figure\n",
    "plot_band_array(chm_array,image_extent,'Canopy height Model','Canopy height (m)','Greens',[0, 9])\n",
    "plt.savefig(just_chm_file_split[0]+'_'+just_chm_file_split[1]+'_'+just_chm_file_split[2]+'_'+just_chm_file_split[3]+'_'+just_chm_file_split[4]+'_'+just_chm_file_split[5]+'_'+'CHM.png',dpi=300,orientation='landscape',bbox_inches='tight',pad_inches=0.1)\n"
   ]
  },
  {
   "cell_type": "code",
   "execution_count": null,
   "metadata": {},
   "outputs": [],
   "source": [
    "#Smooth the CHM using a gaussian filter to remove spurious points\n",
    "chm_array_smooth = ndi.gaussian_filter(chm_array,2,mode='constant',cval=0,truncate=2.0)\n",
    "chm_array_smooth[chm_array==0] = 0 "
   ]
  },
  {
   "cell_type": "markdown",
   "metadata": {},
   "source": [
    "## ??????????????????????????????????????????"
   ]
  },
  {
   "cell_type": "code",
   "execution_count": null,
   "metadata": {},
   "outputs": [],
   "source": [
    "#Save the smoothed CHM, #32611 is the format of the data file\n",
    "array2raster('./data/2017/chm_filter.tif',(xMin,yMax),1,-1,np.array(chm_array_smooth/10000,dtype=float),32611)"
   ]
  },
  {
   "cell_type": "code",
   "execution_count": null,
   "metadata": {},
   "outputs": [],
   "source": [
    " #Calculate local maximum points in the smoothed CHM\n",
    "local_maxi = peak_local_max(chm_array_smooth,indices=False, footprint=np.ones((5, 5)))"
   ]
  },
  {
   "cell_type": "code",
   "execution_count": null,
   "metadata": {},
   "outputs": [],
   "source": [
    "#Plot the local maximums\n",
    "plt.figure(2)\n",
    "plot_band_array(local_maxi,image_extent,'Maximum','Maxi','Greys',[0, 1])\n",
    "plt.savefig(just_chm_file_split[0]+'_'+just_chm_file_split[1]+'_'+just_chm_file_split[2]+'_'+just_chm_file_split[3]+'_'+just_chm_file_split[4]+'_'+just_chm_file_split[5]+'_'+'Maximums.png',dpi=300,orientation='landscape',bbox_inches='tight',pad_inches=0.1)\n"
   ]
  },
  {
   "cell_type": "code",
   "execution_count": null,
   "metadata": {},
   "outputs": [],
   "source": [
    "#Identify all the maximum points\n",
    "markers = ndi.label(local_maxi)[0]"
   ]
  },
  {
   "cell_type": "code",
   "execution_count": null,
   "metadata": {},
   "outputs": [],
   "source": [
    "#Create a CHM mask so the segmentation will only occur on the trees\n",
    "chm2017_mask = chm_array_smooth\n",
    "chm2017_mask[chm_array_smooth != 0] = 1"
   ]
  },
  {
   "cell_type": "code",
   "execution_count": null,
   "metadata": {},
   "outputs": [],
   "source": [
    "#Perfrom watershed segmentation        \n",
    "labels = watershed(chm_array_smooth, markers, mask=chm_mask)"
   ]
  },
  {
   "cell_type": "code",
   "execution_count": null,
   "metadata": {},
   "outputs": [],
   "source": [
    "#Get the properties of each segment\n",
    "tree_properties = regionprops(labels,chm_array, ['Area','BoundingBox','Centroid','Orientation','MajorAxisLength','MinorAxisLength','MaxIntensity','MinIntensity'])"
   ]
  },
  {
   "cell_type": "markdown",
   "metadata": {},
   "source": [
    "## ??????????????????????????????????????"
   ]
  },
  {
   "cell_type": "code",
   "execution_count": null,
   "metadata": {},
   "outputs": [],
   "source": [
    "#Determine how many individual trees were identified\n",
    "max_labels = labels.max()\n",
    "segment_labels = np.zeros(max_labels+1)\n",
    "segment_id = np.zeros(max_labels+1)\n",
    "\n",
    "for counter in range (1,max_labels+1):\n",
    "    segment_labels[counter] = len(labels[labels==counter])\n",
    "    segment_id[counter]=counter\n",
    "\n",
    "#Remove the non-zero elements\n",
    "segment_id = segment_id[np.nonzero(segment_labels)]"
   ]
  },
  {
   "cell_type": "code",
   "execution_count": null,
   "metadata": {},
   "outputs": [],
   "source": [
    "#Change the lebels to flow and plot them and save as raster\n",
    "labels = np.array((labels),dtype=float)\n",
    "plt.figure(3)\n",
    "array2raster('./data/2017/SegmentedData.tif',(xMin,yMax),1,-1,labels,32611)\n",
    "#Change the zero labels to nans so they won't show up in the plot\n",
    "labels[labels==0] = np.nan\n",
    "\n",
    "#Plot the segments      \n",
    "plot_band_array(labels,image_extent,'Crown Segmentation','Tree Crown Number','Spectral',[0, max_labels])\n",
    "plt.savefig(just_chm_file_split[0]+'_'+just_chm_file_split[1]+'_'+just_chm_file_split[2]+'_'+just_chm_file_split[3]+'_'+just_chm_file_split[4]+'_'+just_chm_file_split[5]+'_'+'Segmentation.png',dpi=300,orientation='landscape',bbox_inches='tight',pad_inches=0.1)"
   ]
  },
  {
   "cell_type": "code",
   "execution_count": null,
   "metadata": {},
   "outputs": [],
   "source": [
    "#Define several of the predictor variables\n",
    "area=np.zeros(len(tree_properties))\n",
    "diameter=np.zeros(len(tree_properties))\n",
    "max_tree_height=np.zeros(len(tree_properties))\n",
    "min_tree_height=np.zeros(len(tree_properties))\n",
    "\n",
    "#Retreive the predictor variables from the region properties\n",
    "for counter in range(0,len(tree_properties)):\n",
    "\n",
    "    area[counter] = tree_properties[counter]['Area']\n",
    "    diameter[counter] = tree_properties[counter]['MajorAxisLength']        \n",
    "    max_tree_height[counter] =  tree_properties[counter]['MaxIntensity']    \n",
    "    min_tree_height[counter] = tree_properties[counter]['MinIntensity']  \n"
   ]
  },
  {
   "cell_type": "code",
   "execution_count": null,
   "metadata": {},
   "outputs": [],
   "source": [
    "#Define the remaining predictor variables\n",
    "\n",
    "crown_geometric_volume_full=np.zeros(len(segment_id))\n",
    "crown_geometric_volume_50th_percentile=np.zeros(len(segment_id))\n",
    "crown_geometric_volume_60th_percentile=np.zeros(len(segment_id))\n",
    "crown_geometric_volume_70th_percentile=np.zeros(len(segment_id))\n",
    "percentile_50th=np.zeros(len(segment_id))\n",
    "percentile_60th=np.zeros(len(segment_id))\n",
    "percentile_70th=np.zeros(len(segment_id))"
   ]
  },
  {
   "cell_type": "code",
   "execution_count": null,
   "metadata": {},
   "outputs": [],
   "source": [
    "#Cycle through all of the tree segments    \n",
    "counter=0\n",
    "for segment in segment_id:\n",
    "    #Pull out the tree of interest\n",
    "    indexes_of_tree = np.asarray(np.where(labels==segment)).T\n",
    "    tree_data = chm_array[indexes_of_tree[:,0],indexes_of_tree[:,1]]\n",
    "    #Calculate the geometric volume \n",
    "    crown_geometric_volume_full[counter]=np.sum([tree_data-np.min(tree_data)])\n",
    "\n",
    "    #Pull out 50th percentile stats\n",
    "    percentile_50th[counter]=np.percentile(tree_data,50)\n",
    "    tree_data_50th = chm_array[indexes_of_tree[:,0],indexes_of_tree[:,1]]\n",
    "    tree_data_50th[tree_data_50th>percentile_50th[counter]] = percentile_50th[counter]\n",
    "    crown_geometric_volume_50th_percentile[counter]=np.sum([tree_data_50th-min_tree_height[counter]])\n",
    "\n",
    "    #Pull out 60th percentile stats    \n",
    "    percentile_60th[counter]=np.percentile(tree_data,60)\n",
    "    tree_data_60th = chm_array[indexes_of_tree[:,0],indexes_of_tree[:,1]]\n",
    "    tree_data_60th[tree_data_60th>percentile_60th[counter]] = percentile_60th[counter]\n",
    "    crown_geometric_volume_60th_percentile[counter]=np.sum([tree_data_60th-min_tree_height[counter]])\n",
    "\n",
    "    #Pull out 60th percentile stats \n",
    "    percentile_70th[counter]=np.percentile(tree_data,70)\n",
    "    tree_data_70th = chm_array[indexes_of_tree[:,0],indexes_of_tree[:,1]]\n",
    "    tree_data_70th[tree_data_70th>percentile_70th[counter]] = percentile_70th[counter]\n",
    "    crown_geometric_volume_70th_percentile[counter]=np.sum([tree_data_70th-min_tree_height[counter]])\n",
    "\n",
    "    counter=counter+1"
   ]
  },
  {
   "cell_type": "code",
   "execution_count": null,
   "metadata": {},
   "outputs": [],
   "source": []
  }
 ],
 "metadata": {
  "kernelspec": {
   "display_name": "Python 3",
   "language": "python",
   "name": "python3"
  },
  "language_info": {
   "codemirror_mode": {
    "name": "ipython",
    "version": 3
   },
   "file_extension": ".py",
   "mimetype": "text/x-python",
   "name": "python",
   "nbconvert_exporter": "python",
   "pygments_lexer": "ipython3",
   "version": "3.5.5"
  }
 },
 "nbformat": 4,
 "nbformat_minor": 2
}
