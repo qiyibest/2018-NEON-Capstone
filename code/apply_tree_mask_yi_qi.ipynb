{
 "cells": [
  {
   "cell_type": "code",
   "execution_count": null,
   "metadata": {},
   "outputs": [],
   "source": []
  },
  {
   "cell_type": "code",
   "execution_count": 5,
   "metadata": {},
   "outputs": [],
   "source": [
    "def read_neon_reflh5(refl_filename):\n",
    "    \"\"\"read in a NEON AOP reflectance hdf5 file and returns \n",
    "    reflectance array, and metadata dictionary containing metadata \n",
    "    (similar to envi header format)\n",
    "    --------\n",
    "    Parameters\n",
    "        refl_filename -- full or relative path and name of reflectance hdf5 file\n",
    "    --------\n",
    "    Returns \n",
    "    --------\n",
    "    reflArray:\n",
    "        array of reflectance values\n",
    "    metadata:\n",
    "        dictionary containing the following metadata (all strings):\n",
    "            bad_band_window1: min and max wavelenths of first water vapor window (tuple)\n",
    "            bad_band_window2: min and max wavelenths of second water vapor window (tuple)\n",
    "            bands: # of bands (float)\n",
    "            coordinate system string: coordinate system information (string)\n",
    "            data ignore value: value corresponding to no data (float)\n",
    "            interleave: 'BSQ' (string)\n",
    "            reflectance scale factor: factor by which reflectance is scaled (float)\n",
    "            wavelength: wavelength values (float)\n",
    "            wavelength unit: 'm' (string)\n",
    "            spatial extent: extent of tile [xMin, xMax, yMin, yMax], UTM meters\n",
    "    --------\n",
    "    Example Execution:\n",
    "    --------\n",
    "    sercRefl, sercMetadata = h5refl2array('NEON_D02_SERC_DP1_20160807_160559_reflectance.h5') \"\"\"\n",
    "\n",
    "    #Read in reflectance hdf5 file \n",
    "    hdf5_file = h5py.File(refl_filename,'r')\n",
    "\n",
    "    #Get the site name\n",
    "    file_attrs_string = str(list(hdf5_file.items()))\n",
    "    file_attrs_string_split = file_attrs_string.split(\"'\")\n",
    "    sitename = file_attrs_string_split[1]\n",
    "\n",
    "    #Extract the reflectance & wavelength datasets\n",
    "    refl = hdf5_file[sitename]['Reflectance']\n",
    "    reflData = refl['Reflectance_Data']\n",
    "    reflArray = refl['Reflectance_Data'].value\n",
    "\n",
    "    #Create dictionary containing relevant metadata information\n",
    "    metadata = {}\n",
    "    metadata['map info'] = refl['Metadata']['Coordinate_System']['Map_Info'].value\n",
    "    metadata['wavelength'] = refl['Metadata']['Spectral_Data']['Wavelength'].value\n",
    "\n",
    "    #Extract no data value & set no data value to NaN\n",
    "    metadata['data ignore value'] = float(reflData.attrs['Data_Ignore_Value'])\n",
    "    metadata['reflectance scale factor'] = float(reflData.attrs['Scale_Factor'])\n",
    "    metadata['interleave'] = reflData.attrs['Interleave']\n",
    "\n",
    "    #Extract spatial extent from attributes\n",
    "    metadata['spatial extent'] = reflData.attrs['Spatial_Extent_meters']\n",
    "\n",
    "    #Extract bad band windows\n",
    "    metadata['bad_band_window1'] = (refl.attrs['Band_Window_1_Nanometers'])\n",
    "    metadata['bad_band_window2'] = (refl.attrs['Band_Window_2_Nanometers'])\n",
    "\n",
    "    #Extract projection information\n",
    "    metadata['projection'] = refl['Metadata']['Coordinate_System']['Proj4'].value\n",
    "    metadata['epsg'] = int(refl['Metadata']['Coordinate_System']['EPSG Code'].value)\n",
    "\n",
    "    #Extract map information: spatial extent & resolution (pixel size)\n",
    "    mapInfo = refl['Metadata']['Coordinate_System']['Map_Info'].value\n",
    "\n",
    "    hdf5_file.close        \n",
    "\n",
    "    return reflArray, metadata"
   ]
  },
  {
   "cell_type": "code",
   "execution_count": 6,
   "metadata": {},
   "outputs": [],
   "source": [
    "def clean_neon_refl_data(data,metadata):\n",
    "    \"\"\"Clean h5 reflectance data and metadata\n",
    "    1. set data ignore value (-9999) to NaN\n",
    "    2. apply reflectance scale factor (10000)\n",
    "    3. remove bad bands (water vapor band windows + last 10 bands): \n",
    "        Band_Window_1_Nanometers = 1340,1445\n",
    "        Band_Window_2_Nanometers = 1790,1955\n",
    "    \"\"\"\n",
    "\n",
    "    # use copy so original data and metadata doesn't change\n",
    "    data_clean = data.copy().astype(float)\n",
    "    metadata_clean = metadata.copy()\n",
    "\n",
    "    #set data ignore value (-9999) to NaN:\n",
    "    if metadata['data ignore value'] in data:\n",
    "        nodata_ind = np.where(data_clean==metadata['data ignore value'])\n",
    "        data_clean[nodata_ind]=np.nan \n",
    "\n",
    "    #apply reflectance scale factor (divide by 10000)\n",
    "    data_clean = data_clean/metadata['reflectance scale factor']\n",
    "\n",
    "    #remove bad bands \n",
    "    #1. define indices corresponding to min/max center wavelength for each bad band window:\n",
    "    bb1_ind0 = np.max(np.where((np.asarray(metadata['wavelength'])<float(metadata['bad_band_window1'][0]))))\n",
    "    bb1_ind1 = np.min(np.where((np.asarray(metadata['wavelength'])>float(metadata['bad_band_window1'][1]))))\n",
    "\n",
    "    bb2_ind0 = np.max(np.where((np.asarray(metadata['wavelength'])<float(metadata['bad_band_window2'][0]))))\n",
    "    bb2_ind1 = np.min(np.where((np.asarray(metadata['wavelength'])>float(metadata['bad_band_window2'][1]))))\n",
    "\n",
    "    bb3_ind0 = len(metadata['wavelength'])-10\n",
    "\n",
    "    #define valid band ranges from indices:\n",
    "    vb1 = list(range(0,bb1_ind0)); \n",
    "    vb2 = list(range(bb1_ind1,bb2_ind0))\n",
    "    vb3 = list(range(bb2_ind1,bb3_ind0))\n",
    "\n",
    "    valid_band_range = [i for j in (range(0,bb1_ind0),\n",
    "                                    range(bb1_ind1,bb2_ind0),\n",
    "                                    range(bb2_ind1,bb3_ind0)) for i in j]\n",
    "\n",
    "    data_clean = data_clean[:,:,vb1+vb2+vb3]\n",
    "\n",
    "    metadata_clean['wavelength'] = [metadata['wavelength'][i] for i in valid_band_range]\n",
    "\n",
    "    return data_clean, metadata_clean\n"
   ]
  },
  {
   "cell_type": "code",
   "execution_count": 9,
   "metadata": {},
   "outputs": [],
   "source": [
    "import gdal\n",
    "import numpy as np\n",
    "import copy\n",
    "import h5py"
   ]
  },
  {
   "cell_type": "code",
   "execution_count": 10,
   "metadata": {},
   "outputs": [],
   "source": [
    "sercRefl, sercRefl_md = read_neon_reflh5('../../Data/capstone/2017/NEON_D17_SJER_DP3_258000_4108000_reflectance.h5')"
   ]
  },
  {
   "cell_type": "code",
   "execution_count": null,
   "metadata": {},
   "outputs": [],
   "source": []
  },
  {
   "cell_type": "code",
   "execution_count": 12,
   "metadata": {},
   "outputs": [
    {
     "ename": "AttributeError",
     "evalue": "'NoneType' object has no attribute 'copy'",
     "output_type": "error",
     "traceback": [
      "\u001b[1;31m---------------------------------------------------------------------------\u001b[0m",
      "\u001b[1;31mAttributeError\u001b[0m                            Traceback (most recent call last)",
      "\u001b[1;32m<ipython-input-12-7f622b8865e7>\u001b[0m in \u001b[0;36m<module>\u001b[1;34m()\u001b[0m\n\u001b[0;32m      1\u001b[0m \u001b[0mchm_filter\u001b[0m \u001b[1;33m=\u001b[0m \u001b[0mgdal\u001b[0m\u001b[1;33m.\u001b[0m\u001b[0mOpen\u001b[0m\u001b[1;33m(\u001b[0m\u001b[1;34m'../../output/chm_mask_2017.tif'\u001b[0m\u001b[1;33m)\u001b[0m\u001b[1;33m\u001b[0m\u001b[0m\n\u001b[0;32m      2\u001b[0m \u001b[1;33m\u001b[0m\u001b[0m\n\u001b[1;32m----> 3\u001b[1;33m \u001b[0mtree_true\u001b[0m \u001b[1;33m=\u001b[0m \u001b[0mchm_filter\u001b[0m\u001b[1;33m.\u001b[0m\u001b[0mcopy\u001b[0m\u001b[1;33m(\u001b[0m\u001b[1;33m)\u001b[0m\u001b[1;33m.\u001b[0m\u001b[0mastype\u001b[0m\u001b[1;33m(\u001b[0m\u001b[0mfloat\u001b[0m\u001b[1;33m)\u001b[0m\u001b[1;33m\u001b[0m\u001b[0m\n\u001b[0m\u001b[0;32m      4\u001b[0m \u001b[0mtree_false\u001b[0m \u001b[1;33m=\u001b[0m \u001b[0mchm_filter\u001b[0m\u001b[1;33m.\u001b[0m\u001b[0mcopy\u001b[0m\u001b[1;33m(\u001b[0m\u001b[1;33m)\u001b[0m\u001b[1;33m.\u001b[0m\u001b[0mastype\u001b[0m\u001b[1;33m(\u001b[0m\u001b[0mfloat\u001b[0m\u001b[1;33m)\u001b[0m\u001b[1;33m\u001b[0m\u001b[0m\n\u001b[0;32m      5\u001b[0m \u001b[0mtree_true\u001b[0m\u001b[1;33m[\u001b[0m\u001b[0mchm_filter\u001b[0m\u001b[1;33m==\u001b[0m\u001b[1;36m0\u001b[0m\u001b[1;33m]\u001b[0m\u001b[1;33m=\u001b[0m\u001b[0mnp\u001b[0m\u001b[1;33m.\u001b[0m\u001b[0mnan\u001b[0m\u001b[1;33m\u001b[0m\u001b[0m\n",
      "\u001b[1;31mAttributeError\u001b[0m: 'NoneType' object has no attribute 'copy'"
     ]
    }
   ],
   "source": [
    "chm_filter = gdal.Open('../../output/chm_mask_2017.tif')\n",
    "chm_filter = c\n",
    "tree_true = chm_filter.copy().astype(float)\n",
    "tree_false = chm_filter.copy().astype(float)\n",
    "tree_true[chm_filter==0]=np.nan\n",
    "tree_false[chm_filter==1]=np.nan\n",
    "\n",
    "\n"
   ]
  },
  {
   "cell_type": "code",
   "execution_count": null,
   "metadata": {},
   "outputs": [],
   "source": []
  }
 ],
 "metadata": {
  "kernelspec": {
   "display_name": "Python 3",
   "language": "python",
   "name": "python3"
  },
  "language_info": {
   "codemirror_mode": {
    "name": "ipython",
    "version": 3
   },
   "file_extension": ".py",
   "mimetype": "text/x-python",
   "name": "python",
   "nbconvert_exporter": "python",
   "pygments_lexer": "ipython3",
   "version": "3.5.5"
  }
 },
 "nbformat": 4,
 "nbformat_minor": 2
}
