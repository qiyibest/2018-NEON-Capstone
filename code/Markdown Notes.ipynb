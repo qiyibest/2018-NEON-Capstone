{
 "cells": [
  {
   "cell_type": "markdown",
   "metadata": {},
   "source": [
    "# 2018-NEON-Capstone"
   ]
  },
  {
   "cell_type": "markdown",
   "metadata": {},
   "source": [
    "## Hyperspectral Classification of Soil Plant Associations and Interannual Variation in Vegetation Indices at the San Joaquin Experimental Range\n"
   ]
  },
  {
   "cell_type": "markdown",
   "metadata": {},
   "source": [
    "### contributors \n",
    "**Tim L Bailey Tim.Bailey@humboldt.edu; Meehan, Kelly kmeehan@usbr.gov; Sarah Jaffe Sarah.Jaffe@colorado.edu; Yi Qi, yqi7@unl.edu**"
   ]
  },
  {
   "cell_type": "markdown",
   "metadata": {},
   "source": [
    "### Objectives\n",
    "This project focuses on vegetation change detection using NEON AOP data at the San Joaquin Experimental Range site. Ihe SJER site is a seasonally dry ecosystem that exhibits large interannual variability in precipitation.  It is anticipated that annual precipitation is most limiting factor for annual net primary productivity at the site.  The 2017 water year was particularly wet with sustained precipitation throughout most of California. Comparing the spectral response of vegetation indexes to the difference in seasonal precipitation between the 2017 and 2018 .   \n"
   ]
  },
  {
   "cell_type": "markdown",
   "metadata": {},
   "source": [
    "The Neon AOP remote sensing program offers a unique opportunity to explore ecosystem response to differences in seasonal water supply. The 2017 and 2018 NEON AOP remote sensing campaigns were closely aligned in late March. The 2013 NEON AOP campaign data was excluded from this project because it was flown in mid June. In addition NEON's hyperspectral data archive format has been changed which could introduce other workflow problems.  \n",
    "\n"
   ]
  },
  {
   "cell_type": "markdown",
   "metadata": {},
   "source": [
    "## Workflow Outline\n",
    "- Masking tree canopy from lidar derivatives\n",
    "- Differencing of summary vegetation indexes between 2017 and 2018 \n",
    "- Unsupervised Classification of Soil and Plant Associations \n",
    "- Unserpervised Classifications Tree Canopy"
   ]
  },
  {
   "cell_type": "markdown",
   "metadata": {},
   "source": [
    "## Masking tree canopy from Lidar derived Canopy Height Models\n"
   ]
  },
  {
   "cell_type": "markdown",
   "metadata": {},
   "source": [
    "## Differencing of Standardized Vegetation Derivatives"
   ]
  },
  {
   "cell_type": "markdown",
   "metadata": {},
   "source": [
    "## Unsupervised Hyperspectral Classification of Plant Soil Associations\n",
    "\n",
    "\n"
   ]
  },
  {
   "cell_type": "markdown",
   "metadata": {},
   "source": [
    "## Unsupervised Hyperspectral Classification of Tree Canopy"
   ]
  }
 ],
 "metadata": {
  "kernelspec": {
   "display_name": "Python 3.5 NEON-RSDI",
   "language": "python",
   "name": "p35"
  },
  "language_info": {
   "codemirror_mode": {
    "name": "ipython",
    "version": 3
   },
   "file_extension": ".py",
   "mimetype": "text/x-python",
   "name": "python",
   "nbconvert_exporter": "python",
   "pygments_lexer": "ipython3",
   "version": "3.5.5"
  }
 },
 "nbformat": 4,
 "nbformat_minor": 2
}
